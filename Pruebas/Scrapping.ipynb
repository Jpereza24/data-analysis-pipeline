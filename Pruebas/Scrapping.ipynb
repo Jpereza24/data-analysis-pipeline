{
 "cells": [
  {
   "cell_type": "code",
   "execution_count": 19,
   "metadata": {},
   "outputs": [],
   "source": [
    "import pandas as pd\n",
    "import re\n",
    "import requests\n",
    "from bs4 import BeautifulSoup"
   ]
  },
  {
   "cell_type": "code",
   "execution_count": 4,
   "metadata": {},
   "outputs": [],
   "source": [
    "url = \"https://www.fifa.com/fifa-world-ranking/ranking-table/men/\""
   ]
  },
  {
   "cell_type": "code",
   "execution_count": 3,
   "metadata": {},
   "outputs": [],
   "source": [
    "def scrapping(url):\n",
    "    res = requests.get(url)\n",
    "    html = res.text\n",
    "    soup = BeautifulSoup(html, 'html.parser')\n",
    "    fifa = soup.select('tbody')[0].find_all('tr')\n",
    "    return fifa"
   ]
  },
  {
   "cell_type": "code",
   "execution_count": 6,
   "metadata": {},
   "outputs": [],
   "source": [
    "def rankingFifa(t):\n",
    "    trr= t.find_all('td')\n",
    "    try:\n",
    "        return {\n",
    "            \"Position\": trr[0].text,\n",
    "            \"Country\": re.sub('\\\\n', '',trr[1].text.upper().strip())[:-3]\n",
    "        }\n",
    "    except:\n",
    "        return None"
   ]
  },
  {
   "cell_type": "code",
   "execution_count": 7,
   "metadata": {},
   "outputs": [],
   "source": [
    "rankingfifa = pd.DataFrame(list(filter(lambda x: x ,map(lambda t: rankingFifa(t), scrapping(url)))))"
   ]
  },
  {
   "cell_type": "code",
   "execution_count": 17,
   "metadata": {},
   "outputs": [],
   "source": [
    "def web_scrapping(c1, c2):\n",
    "    url = \"https://www.fifa.com/fifa-world-ranking/ranking-table/men/\" \n",
    "    rfifa = pd.DataFrame(list(filter(lambda x: x, map(lambda t: rankingFifa(t), scrapping(url)))))\n",
    "    p1 = list(rfifa.loc[rfifa['Country']== c1, 'Position'])\n",
    "    p1 = p1[0]\n",
    "    p2 = list(rfifa.loc[rfifa['Country']== c2, 'Position'])\n",
    "    p2 = p2[0]\n",
    "    return '{} have the {}th position and {} have the {}th in the current Ranking FIFA.'.format(c1, p1,c2,p2)"
   ]
  },
  {
   "cell_type": "code",
   "execution_count": 18,
   "metadata": {},
   "outputs": [
    {
     "data": {
      "text/plain": [
       "'BRAZIL have the 3th position and SPAIN have the 8th in the current Ranking FIFA.'"
      ]
     },
     "execution_count": 18,
     "metadata": {},
     "output_type": "execute_result"
    }
   ],
   "source": [
    "web_scrapping(\"BRAZIL\", \"SPAIN\")"
   ]
  },
  {
   "cell_type": "code",
   "execution_count": null,
   "metadata": {},
   "outputs": [],
   "source": []
  }
 ],
 "metadata": {
  "kernelspec": {
   "display_name": "Python 3",
   "language": "python",
   "name": "python3"
  },
  "language_info": {
   "codemirror_mode": {
    "name": "ipython",
    "version": 3
   },
   "file_extension": ".py",
   "mimetype": "text/x-python",
   "name": "python",
   "nbconvert_exporter": "python",
   "pygments_lexer": "ipython3",
   "version": "3.7.5"
  }
 },
 "nbformat": 4,
 "nbformat_minor": 4
}
